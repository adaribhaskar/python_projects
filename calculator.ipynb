{
  "nbformat": 4,
  "nbformat_minor": 0,
  "metadata": {
    "colab": {
      "provenance": [],
      "toc_visible": true,
      "authorship_tag": "ABX9TyOjHHPvMcULcvCAoRqekTIH",
      "include_colab_link": true
    },
    "kernelspec": {
      "name": "python3",
      "display_name": "Python 3"
    },
    "language_info": {
      "name": "python"
    }
  },
  "cells": [
    {
      "cell_type": "markdown",
      "metadata": {
        "id": "view-in-github",
        "colab_type": "text"
      },
      "source": [
        "<a href=\"https://colab.research.google.com/github/adaribhaskar/python_projects/blob/main/calculator.ipynb\" target=\"_parent\"><img src=\"https://colab.research.google.com/assets/colab-badge.svg\" alt=\"Open In Colab\"/></a>"
      ]
    },
    {
      "cell_type": "code",
      "execution_count": 14,
      "metadata": {
        "colab": {
          "base_uri": "https://localhost:8080/"
        },
        "id": "idThzZTuplPk",
        "outputId": "df8d495c-6b78-409a-d121-9e297c35638a"
      },
      "outputs": [
        {
          "output_type": "stream",
          "name": "stdout",
          "text": [
            "CALCULATOR\n",
            "enter number 1 : 4\n",
            "enter number 2 : 6\n",
            "enter the operation : @\n",
            "the Answer is Operation not found\n"
          ]
        }
      ],
      "source": [
        "#using If-else statements\n",
        "def calc(a,b,op):\n",
        "  if op==\"+\":\n",
        "    return (a+b)\n",
        "  elif op==\"-\":\n",
        "    return(a-b)\n",
        "  elif op==\"*\":\n",
        "    return(a*b)\n",
        "  elif op==\"/\":\n",
        "    return(a/b)\n",
        "  else:\n",
        "    return(\"Operation not found\")\n",
        "print(\"CALCULATOR\")\n",
        "a=int(input(\"Enter number 1 : \"))\n",
        "b=int(input(\"Enter number 2 : \"))\n",
        "op=input(\"Enter the operation : \")\n",
        "print(\"The Answer is\",calc(a,b,op))\n"
      ]
    }
  ]
}