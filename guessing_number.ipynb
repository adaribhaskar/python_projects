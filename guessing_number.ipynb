{
  "nbformat": 4,
  "nbformat_minor": 0,
  "metadata": {
    "colab": {
      "provenance": [],
      "authorship_tag": "ABX9TyPiQdfUPsORUtzU7r+kSK9g",
      "include_colab_link": true
    },
    "kernelspec": {
      "name": "python3",
      "display_name": "Python 3"
    },
    "language_info": {
      "name": "python"
    }
  },
  "cells": [
    {
      "cell_type": "markdown",
      "metadata": {
        "id": "view-in-github",
        "colab_type": "text"
      },
      "source": [
        "<a href=\"https://colab.research.google.com/github/adaribhaskar/python_projects/blob/main/guessing_number.ipynb\" target=\"_parent\"><img src=\"https://colab.research.google.com/assets/colab-badge.svg\" alt=\"Open In Colab\"/></a>"
      ]
    },
    {
      "cell_type": "code",
      "source": [
        "import random \n",
        "start=int(input())\n",
        "end=int(input())\n",
        "a=random.randint(start,end)\n",
        "points=end-start\n",
        "for i in range(points+1):\n",
        "  guess=int(input(\"Guessing number\"))\n",
        "  if guess==a:\n",
        "    print(\"Correct Answer and your score is : \",points)\n",
        "    break\n",
        "  else:\n",
        "    points=points-1\n",
        "    print(\"Better luck next time\")\n",
        "  if i==points:\n",
        "    print(\"NO chances left\")"
      ],
      "metadata": {
        "colab": {
          "base_uri": "https://localhost:8080/"
        },
        "id": "w_-1FLRNCvSz",
        "outputId": "a992051b-9fe1-4f26-f07f-ff075d7727c9"
      },
      "execution_count": 55,
      "outputs": [
        {
          "output_type": "stream",
          "name": "stdout",
          "text": [
            "1\n",
            "4\n",
            "Guessing number3\n",
            "Correct Answer and your score is :  3\n"
          ]
        }
      ]
    }
  ]
}