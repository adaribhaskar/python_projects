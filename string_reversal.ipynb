{
  "nbformat": 4,
  "nbformat_minor": 0,
  "metadata": {
    "colab": {
      "provenance": [],
      "authorship_tag": "ABX9TyNoyOo3PWL+NSfYrDiixYbd",
      "include_colab_link": true
    },
    "kernelspec": {
      "name": "python3",
      "display_name": "Python 3"
    },
    "language_info": {
      "name": "python"
    }
  },
  "cells": [
    {
      "cell_type": "markdown",
      "metadata": {
        "id": "view-in-github",
        "colab_type": "text"
      },
      "source": [
        "<a href=\"https://colab.research.google.com/github/adaribhaskar/python_projects/blob/main/string_reversal.ipynb\" target=\"_parent\"><img src=\"https://colab.research.google.com/assets/colab-badge.svg\" alt=\"Open In Colab\"/></a>"
      ]
    },
    {
      "cell_type": "code",
      "execution_count": 32,
      "metadata": {
        "colab": {
          "base_uri": "https://localhost:8080/",
          "height": 53
        },
        "id": "idThzZTuplPk",
        "outputId": "264bfcda-9196-4cae-cb79-e85a011ac77e"
      },
      "outputs": [
        {
          "name": "stdout",
          "output_type": "stream",
          "text": [
            "my name is bhaskar\n"
          ]
        },
        {
          "output_type": "execute_result",
          "data": {
            "text/plain": [
              "'raksahb si eman ym'"
            ],
            "application/vnd.google.colaboratory.intrinsic+json": {
              "type": "string"
            }
          },
          "metadata": {},
          "execution_count": 32
        }
      ],
      "source": [
        "#String Reversal\n",
        "def rev(st):\n",
        "  st=list(st)\n",
        "  return(\"\".join(st[::-1]))\n",
        "st=input()\n",
        "rev(st)\n"
      ]
    },
    {
      "cell_type": "code",
      "source": [
        "a=\"this, is , my\"\n",
        "print(a.split(\",\"))"
      ],
      "metadata": {
        "colab": {
          "base_uri": "https://localhost:8080/"
        },
        "id": "W9NPHF6FxuvE",
        "outputId": "3248f276-0f0a-494a-877c-752ce5e2743e"
      },
      "execution_count": 33,
      "outputs": [
        {
          "output_type": "stream",
          "name": "stdout",
          "text": [
            "['this', ' is ', ' my']\n"
          ]
        }
      ]
    },
    {
      "cell_type": "code",
      "source": [
        "#without using inbuild function\n",
        "st=input()\n",
        "li=[]\n",
        "for i in range(len(st)-1,-1,-1):\n",
        "  li.append(st[i])\n",
        "print(\"\".join(li))"
      ],
      "metadata": {
        "colab": {
          "base_uri": "https://localhost:8080/"
        },
        "id": "kvb0zl-z-kM8",
        "outputId": "47790eeb-6f34-4937-d671-e3b2f2ff20a4"
      },
      "execution_count": 43,
      "outputs": [
        {
          "output_type": "stream",
          "name": "stdout",
          "text": [
            "My name is Bhaskar\n",
            "raksahB si eman yM\n"
          ]
        }
      ]
    }
  ]
}